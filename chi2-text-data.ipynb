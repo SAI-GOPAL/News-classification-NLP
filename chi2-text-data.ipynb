{
 "cells": [
  {
   "cell_type": "markdown",
   "id": "searching-stand",
   "metadata": {
    "id": "view-in-github",
    "papermill": {
     "duration": 0.013908,
     "end_time": "2021-05-24T12:33:56.449066",
     "exception": false,
     "start_time": "2021-05-24T12:33:56.435158",
     "status": "completed"
    },
    "tags": []
   },
   "source": [
    "<a href=\"https://colab.research.google.com/github/samarth0174/-Chi-Square-Feature-Selection/blob/master/Chi_Square_Feature_Selection(Solution).ipynb\" target=\"_parent\"><img src=\"https://colab.research.google.com/assets/colab-badge.svg\" alt=\"Open In Colab\"/></a>"
   ]
  },
  {
   "cell_type": "markdown",
   "id": "silver-simon",
   "metadata": {
    "id": "QcTKleOP3Y5E",
    "papermill": {
     "duration": 0.012342,
     "end_time": "2021-05-24T12:33:56.474156",
     "exception": false,
     "start_time": "2021-05-24T12:33:56.461814",
     "status": "completed"
    },
    "tags": []
   },
   "source": [
    "## **Feature selection is a process where you automatically select those features in your data that contribute most to the prediction variable or output in which you are interested. The benefits of performing feature selection before modeling your data are:**\n",
    "\n",
    "* Avoid Overfitting: Less redundant data gives performance boost to the model and results in less opportunity to make decisions based on noise\n",
    "* Reduces Training Time: Less data means that algorithms train faster\n",
    "\n"
   ]
  },
  {
   "cell_type": "markdown",
   "id": "aware-habitat",
   "metadata": {
    "id": "CfOBjpLPVw5f",
    "papermill": {
     "duration": 0.012317,
     "end_time": "2021-05-24T12:33:56.499058",
     "exception": false,
     "start_time": "2021-05-24T12:33:56.486741",
     "status": "completed"
    },
    "tags": []
   },
   "source": [
    "## \n",
    "* One common feature selection method that is used with text data is the Chi-Square feature selection. \n",
    "* The χ2 test is used in statistics to test the independence of two events.  \n",
    "* More specifically in feature selection we use it to test whether the occurrence of a specific term and the occurrence of a specific class are independent. \n",
    "\n",
    "* For each feature (term), a corresponding high χ2 score indicates that the null hypothesis H0 of independence (meaning the document class has no influence over the term's frequency) should be rejected and the occurrence of the term and class are dependent. \n",
    "* In this case, we should select the feature for the text classification."
   ]
  },
  {
   "cell_type": "markdown",
   "id": "ruled-honolulu",
   "metadata": {
    "id": "NBJkpANQRKWr",
    "papermill": {
     "duration": 0.012203,
     "end_time": "2021-05-24T12:33:56.523775",
     "exception": false,
     "start_time": "2021-05-24T12:33:56.511572",
     "status": "completed"
    },
    "tags": []
   },
   "source": [
    "# **Import libraries**"
   ]
  },
  {
   "cell_type": "code",
   "execution_count": 1,
   "id": "dominican-structure",
   "metadata": {
    "execution": {
     "iopub.execute_input": "2021-05-24T12:33:56.555189Z",
     "iopub.status.busy": "2021-05-24T12:33:56.554568Z",
     "iopub.status.idle": "2021-05-24T12:33:57.871782Z",
     "shell.execute_reply": "2021-05-24T12:33:57.870966Z",
     "shell.execute_reply.started": "2021-05-24T12:18:59.605535Z"
    },
    "id": "8LfLoq9u2sB8",
    "papermill": {
     "duration": 1.335729,
     "end_time": "2021-05-24T12:33:57.871948",
     "exception": false,
     "start_time": "2021-05-24T12:33:56.536219",
     "status": "completed"
    },
    "tags": []
   },
   "outputs": [],
   "source": [
    "# TODO: import pandas,numpy,labelbinarizer,selectkbest,countvectorizers\n",
    "import numpy as np\n",
    "import pandas as pd\n",
    "\n",
    "from sklearn.preprocessing import LabelBinarizer\n",
    "from sklearn.feature_selection import SelectKBest\n",
    "from sklearn.feature_extraction.text import CountVectorizer\n"
   ]
  },
  {
   "cell_type": "markdown",
   "id": "martial-tourism",
   "metadata": {
    "id": "c5ABUJhARSOV",
    "papermill": {
     "duration": 0.012427,
     "end_time": "2021-05-24T12:33:57.897150",
     "exception": false,
     "start_time": "2021-05-24T12:33:57.884723",
     "status": "completed"
    },
    "tags": []
   },
   "source": [
    "# **For the given Dummy dataset you need to perform feature selection.**"
   ]
  },
  {
   "cell_type": "code",
   "execution_count": 2,
   "id": "varied-freedom",
   "metadata": {
    "execution": {
     "iopub.execute_input": "2021-05-24T12:33:57.944537Z",
     "iopub.status.busy": "2021-05-24T12:33:57.943845Z",
     "iopub.status.idle": "2021-05-24T12:33:57.964626Z",
     "shell.execute_reply": "2021-05-24T12:33:57.965117Z",
     "shell.execute_reply.started": "2021-05-24T12:19:21.481886Z"
    },
    "id": "KXjnRF8H4sj6",
    "outputId": "fdcd0b88-2eed-449a-9fc1-58c3308592d4",
    "papermill": {
     "duration": 0.055045,
     "end_time": "2021-05-24T12:33:57.965291",
     "exception": false,
     "start_time": "2021-05-24T12:33:57.910246",
     "status": "completed"
    },
    "tags": []
   },
   "outputs": [
    {
     "data": {
      "text/html": [
       "<div>\n",
       "<style scoped>\n",
       "    .dataframe tbody tr th:only-of-type {\n",
       "        vertical-align: middle;\n",
       "    }\n",
       "\n",
       "    .dataframe tbody tr th {\n",
       "        vertical-align: top;\n",
       "    }\n",
       "\n",
       "    .dataframe thead th {\n",
       "        text-align: right;\n",
       "    }\n",
       "</style>\n",
       "<table border=\"1\" class=\"dataframe\">\n",
       "  <thead>\n",
       "    <tr style=\"text-align: right;\">\n",
       "      <th></th>\n",
       "      <th>cab</th>\n",
       "      <th>call</th>\n",
       "      <th>he</th>\n",
       "      <th>me</th>\n",
       "      <th>please</th>\n",
       "      <th>tonight</th>\n",
       "      <th>will</th>\n",
       "      <th>you</th>\n",
       "    </tr>\n",
       "  </thead>\n",
       "  <tbody>\n",
       "    <tr>\n",
       "      <th>0</th>\n",
       "      <td>0</td>\n",
       "      <td>1</td>\n",
       "      <td>0</td>\n",
       "      <td>0</td>\n",
       "      <td>0</td>\n",
       "      <td>1</td>\n",
       "      <td>0</td>\n",
       "      <td>1</td>\n",
       "    </tr>\n",
       "    <tr>\n",
       "      <th>1</th>\n",
       "      <td>1</td>\n",
       "      <td>1</td>\n",
       "      <td>0</td>\n",
       "      <td>1</td>\n",
       "      <td>0</td>\n",
       "      <td>0</td>\n",
       "      <td>0</td>\n",
       "      <td>0</td>\n",
       "    </tr>\n",
       "    <tr>\n",
       "      <th>2</th>\n",
       "      <td>0</td>\n",
       "      <td>1</td>\n",
       "      <td>0</td>\n",
       "      <td>1</td>\n",
       "      <td>2</td>\n",
       "      <td>0</td>\n",
       "      <td>0</td>\n",
       "      <td>0</td>\n",
       "    </tr>\n",
       "    <tr>\n",
       "      <th>3</th>\n",
       "      <td>0</td>\n",
       "      <td>1</td>\n",
       "      <td>1</td>\n",
       "      <td>1</td>\n",
       "      <td>0</td>\n",
       "      <td>0</td>\n",
       "      <td>1</td>\n",
       "      <td>0</td>\n",
       "    </tr>\n",
       "  </tbody>\n",
       "</table>\n",
       "</div>"
      ],
      "text/plain": [
       "   cab  call  he  me  please  tonight  will  you\n",
       "0    0     1   0   0       0        1     0    1\n",
       "1    1     1   0   1       0        0     0    0\n",
       "2    0     1   0   1       2        0     0    0\n",
       "3    0     1   1   1       0        0     1    0"
      ]
     },
     "execution_count": 2,
     "metadata": {},
     "output_type": "execute_result"
    }
   ],
   "source": [
    "X = np.array(['call you tonight', 'Call me a cab', 'please call me... PLEASE!', 'he will call me'])\n",
    "y = [1, 1, 2, 0] #class labels\n",
    "\n",
    "# we'll convert it to a dense document-term matrix,\n",
    "# so we can print a more readable output\n",
    "vect = CountVectorizer()\n",
    "X_dtm = vect.fit_transform(X)\n",
    "X_dtm = X_dtm.toarray()\n",
    "pd.DataFrame(X_dtm, columns = vect.get_feature_names())"
   ]
  },
  {
   "cell_type": "markdown",
   "id": "dominant-ready",
   "metadata": {
    "id": "achXHlH6WUBv",
    "papermill": {
     "duration": 0.012781,
     "end_time": "2021-05-24T12:33:57.992889",
     "exception": false,
     "start_time": "2021-05-24T12:33:57.980108",
     "status": "completed"
    },
    "tags": []
   },
   "source": []
  },
  {
   "cell_type": "markdown",
   "id": "colonial-athletics",
   "metadata": {
    "id": "g7DUBQkWRrh8",
    "papermill": {
     "duration": 0.012925,
     "end_time": "2021-05-24T12:33:58.019824",
     "exception": false,
     "start_time": "2021-05-24T12:33:58.006899",
     "status": "completed"
    },
    "tags": []
   },
   "source": [
    "# **STEPS¶**\n",
    "* First compute the observed count for each class. This is done by building a contingency table from an input X (feature values) and y (class labels). \n",
    "*  Each entry i, j corresponds to some feature i and some class j, and holds the sum of the ith feature's values across all samples belonging to the class j.\n",
    "\n",
    "* Note that although the feature values here are represented as frequencies, this method also works quite well in practice when the values are tf-idf values, since those are just weighted/scaled frequencies."
   ]
  },
  {
   "cell_type": "code",
   "execution_count": 3,
   "id": "lightweight-introduction",
   "metadata": {
    "execution": {
     "iopub.execute_input": "2021-05-24T12:33:58.053823Z",
     "iopub.status.busy": "2021-05-24T12:33:58.053170Z",
     "iopub.status.idle": "2021-05-24T12:33:58.057937Z",
     "shell.execute_reply": "2021-05-24T12:33:58.057385Z",
     "shell.execute_reply.started": "2021-05-24T12:22:45.558505Z"
    },
    "id": "jhQuNRSDRqsj",
    "outputId": "6a532152-74d6-4e10-d4df-f2e65c66914a",
    "papermill": {
     "duration": 0.025012,
     "end_time": "2021-05-24T12:33:58.058101",
     "exception": false,
     "start_time": "2021-05-24T12:33:58.033089",
     "status": "completed"
    },
    "tags": []
   },
   "outputs": [
    {
     "name": "stdout",
     "output_type": "stream",
     "text": [
      "[[0 1 0]\n",
      " [0 1 0]\n",
      " [0 0 1]\n",
      " [1 0 0]]\n",
      "\n",
      "[[0 1 0 0 0 1 0 1]\n",
      " [1 1 0 1 0 0 0 0]\n",
      " [0 1 0 1 2 0 0 0]\n",
      " [0 1 1 1 0 0 1 0]]\n",
      "\n",
      "[[0 1 1 1 0 0 1 0]\n",
      " [1 2 0 1 0 1 0 1]\n",
      " [0 1 0 1 2 0 0 0]]\n"
     ]
    }
   ],
   "source": [
    "# binarize the output column,\n",
    "# this makes computing the observed value a \n",
    "# simple dot product\n",
    "y_binarized = LabelBinarizer().fit_transform(y)\n",
    "print(y_binarized)\n",
    "print()\n",
    "print(X_dtm)\n",
    "print()\n",
    "# our observed count for each class (the row)\n",
    "# and each feature (the column)\n",
    "observed = np.dot(y_binarized.T, X_dtm)\n",
    "print(observed)"
   ]
  },
  {
   "cell_type": "code",
   "execution_count": 4,
   "id": "cooperative-credits",
   "metadata": {
    "execution": {
     "iopub.execute_input": "2021-05-24T12:33:58.092113Z",
     "iopub.status.busy": "2021-05-24T12:33:58.091457Z",
     "iopub.status.idle": "2021-05-24T12:33:58.099100Z",
     "shell.execute_reply": "2021-05-24T12:33:58.098412Z",
     "shell.execute_reply.started": "2021-05-24T12:27:54.956222Z"
    },
    "id": "HcwVOR9mSBrc",
    "outputId": "c4d3bdb0-4999-43e6-ca37-4df2df2d0f76",
    "papermill": {
     "duration": 0.027462,
     "end_time": "2021-05-24T12:33:58.099252",
     "exception": false,
     "start_time": "2021-05-24T12:33:58.071790",
     "status": "completed"
    },
    "tags": []
   },
   "outputs": [
    {
     "name": "stdout",
     "output_type": "stream",
     "text": [
      "[[0.25 0.5  0.25]]\n",
      "\n",
      "[[1 4 1 3 2 1 1 1]]\n",
      "\n",
      "[[0.25 1.   0.25 0.75 0.5  0.25 0.25 0.25]\n",
      " [0.5  2.   0.5  1.5  1.   0.5  0.5  0.5 ]\n",
      " [0.25 1.   0.25 0.75 0.5  0.25 0.25 0.25]]\n"
     ]
    }
   ],
   "source": [
    "# compute the probability of each class and the feature count; \n",
    "# keep both as a 2 dimension array using reshape\n",
    "class_prob = y_binarized.mean(axis = 0).reshape(1, -1)\n",
    "print(class_prob)\n",
    "print()\n",
    "feature_count = X_dtm.sum(axis = 0).reshape(1, -1)\n",
    "print(feature_count)\n",
    "print()\n",
    "expected = np.dot(class_prob.T, feature_count)\n",
    "print(expected)"
   ]
  },
  {
   "cell_type": "markdown",
   "id": "forbidden-glass",
   "metadata": {
    "id": "vh7uLCqoSQOB",
    "papermill": {
     "duration": 0.013328,
     "end_time": "2021-05-24T12:33:58.126390",
     "exception": false,
     "start_time": "2021-05-24T12:33:58.113062",
     "status": "completed"
    },
    "tags": []
   },
   "source": [
    "### **We can do chi square test with an assumption that there is no biase between the columns. We can also do Chi_square test directly from the contigency table** \n",
    "\n",
    "### **find the Chi value and P value for each feature**\n",
    "* chi-square scores - the scores are better if greater. \n",
    "* p-values - they are better if smaller.\n",
    "\n"
   ]
  },
  {
   "cell_type": "code",
   "execution_count": 5,
   "id": "cathedral-hostel",
   "metadata": {
    "execution": {
     "iopub.execute_input": "2021-05-24T12:33:58.160794Z",
     "iopub.status.busy": "2021-05-24T12:33:58.159951Z",
     "iopub.status.idle": "2021-05-24T12:33:58.163687Z",
     "shell.execute_reply": "2021-05-24T12:33:58.163095Z",
     "shell.execute_reply.started": "2021-05-24T12:32:22.206134Z"
    },
    "id": "NiENIGrwSDAg",
    "outputId": "6dfb6b84-c822-414b-ff32-68f01bea1718",
    "papermill": {
     "duration": 0.022875,
     "end_time": "2021-05-24T12:33:58.163820",
     "exception": false,
     "start_time": "2021-05-24T12:33:58.140945",
     "status": "completed"
    },
    "tags": []
   },
   "outputs": [
    {
     "name": "stdout",
     "output_type": "stream",
     "text": [
      "[1.         0.         3.         0.33333333 6.         1.\n",
      " 3.         1.        ]\n"
     ]
    }
   ],
   "source": [
    "#TODO : Find chisqscore for each feature value\n",
    "chisq = (observed - expected) ** 2 / expected\n",
    "chisq_score = chisq.sum(axis = 0)\n",
    "print(chisq_score)"
   ]
  },
  {
   "cell_type": "code",
   "execution_count": 6,
   "id": "bored-johnston",
   "metadata": {
    "execution": {
     "iopub.execute_input": "2021-05-24T12:33:58.202751Z",
     "iopub.status.busy": "2021-05-24T12:33:58.201634Z",
     "iopub.status.idle": "2021-05-24T12:33:58.206521Z",
     "shell.execute_reply": "2021-05-24T12:33:58.205890Z",
     "shell.execute_reply.started": "2021-05-24T12:32:27.914403Z"
    },
    "id": "yB40iZxpSWT0",
    "outputId": "ae3dad82-1979-4845-f1d7-aa4f654093f3",
    "papermill": {
     "duration": 0.028594,
     "end_time": "2021-05-24T12:33:58.206658",
     "exception": false,
     "start_time": "2021-05-24T12:33:58.178064",
     "status": "completed"
    },
    "tags": []
   },
   "outputs": [
    {
     "data": {
      "text/plain": [
       "(array([1.        , 0.        , 3.        , 0.33333333, 6.        ,\n",
       "        1.        , 3.        , 1.        ]),\n",
       " array([0.60653066, 1.        , 0.22313016, 0.84648172, 0.04978707,\n",
       "        0.60653066, 0.22313016, 0.60653066]))"
      ]
     },
     "execution_count": 6,
     "metadata": {},
     "output_type": "execute_result"
    }
   ],
   "source": [
    "#TODO : Cross check the same using Scikit learn chi2 function**\n",
    "from sklearn.feature_selection import chi2\n",
    "chi2score = chi2(X_dtm, y)\n",
    "chi2score\n",
    "\n",
    "# 1st tuple is chisq value and 2nd tuple is pval"
   ]
  },
  {
   "cell_type": "markdown",
   "id": "duplicate-costume",
   "metadata": {
    "id": "hjFUJRlFcct_",
    "papermill": {
     "duration": 0.014338,
     "end_time": "2021-05-24T12:33:58.235776",
     "exception": false,
     "start_time": "2021-05-24T12:33:58.221438",
     "status": "completed"
    },
    "tags": []
   },
   "source": [
    "# **Feature Selection**"
   ]
  },
  {
   "cell_type": "markdown",
   "id": "covered-court",
   "metadata": {
    "id": "Usuihe_Xbnqc",
    "papermill": {
     "duration": 0.014602,
     "end_time": "2021-05-24T12:33:58.265430",
     "exception": false,
     "start_time": "2021-05-24T12:33:58.250828",
     "status": "completed"
    },
    "tags": []
   },
   "source": [
    "## **Select k best features using Chisquare as score fn**\n",
    "**Scikit**-**learn** provides a **SelectKBest** class that can be used with a suite of different statistical tests. It will rank the features with the statistical test that we've specified and select the top k performing ones (meaning that these terms is considered to be more relevant to the task at hand than the others), where k is also a number that we can tweak."
   ]
  },
  {
   "cell_type": "code",
   "execution_count": 7,
   "id": "pending-boards",
   "metadata": {
    "execution": {
     "iopub.execute_input": "2021-05-24T12:33:58.301109Z",
     "iopub.status.busy": "2021-05-24T12:33:58.300421Z",
     "iopub.status.idle": "2021-05-24T12:33:58.306854Z",
     "shell.execute_reply": "2021-05-24T12:33:58.306317Z"
    },
    "id": "wEIyB_6SbiCd",
    "outputId": "c6b0acc3-d0d7-4f06-a777-8045a7f27b02",
    "papermill": {
     "duration": 0.02671,
     "end_time": "2021-05-24T12:33:58.307011",
     "exception": false,
     "start_time": "2021-05-24T12:33:58.280301",
     "status": "completed"
    },
    "tags": []
   },
   "outputs": [
    {
     "data": {
      "text/plain": [
       "array([[0, 0, 0, 1],\n",
       "       [0, 0, 0, 0],\n",
       "       [0, 2, 0, 0],\n",
       "       [1, 0, 1, 0]])"
      ]
     },
     "execution_count": 7,
     "metadata": {},
     "output_type": "execute_result"
    }
   ],
   "source": [
    "#TODO : scikit selectkbest\n",
    "kbest = SelectKBest(score_func = chi2, k = 4)\n",
    "X_dtm_kbest = kbest.fit_transform(X_dtm, y)\n",
    "X_dtm_kbest"
   ]
  },
  {
   "cell_type": "markdown",
   "id": "brazilian-montana",
   "metadata": {
    "id": "WO36-MN_cmik",
    "papermill": {
     "duration": 0.014612,
     "end_time": "2021-05-24T12:33:58.336520",
     "exception": false,
     "start_time": "2021-05-24T12:33:58.321908",
     "status": "completed"
    },
    "tags": []
   },
   "source": [
    "# **Conclusion**"
   ]
  },
  {
   "cell_type": "code",
   "execution_count": null,
   "id": "viral-helena",
   "metadata": {
    "id": "XQruTfQkfvn2",
    "papermill": {
     "duration": 0.014434,
     "end_time": "2021-05-24T12:33:58.365740",
     "exception": false,
     "start_time": "2021-05-24T12:33:58.351306",
     "status": "completed"
    },
    "tags": []
   },
   "outputs": [],
   "source": []
  }
 ],
 "metadata": {
  "kernelspec": {
   "display_name": "Python 3",
   "language": "python",
   "name": "python3"
  },
  "language_info": {
   "codemirror_mode": {
    "name": "ipython",
    "version": 3
   },
   "file_extension": ".py",
   "mimetype": "text/x-python",
   "name": "python",
   "nbconvert_exporter": "python",
   "pygments_lexer": "ipython3",
   "version": "3.7.9"
  },
  "papermill": {
   "default_parameters": {},
   "duration": 9.124911,
   "end_time": "2021-05-24T12:33:59.090150",
   "environment_variables": {},
   "exception": null,
   "input_path": "__notebook__.ipynb",
   "output_path": "__notebook__.ipynb",
   "parameters": {},
   "start_time": "2021-05-24T12:33:49.965239",
   "version": "2.3.2"
  }
 },
 "nbformat": 4,
 "nbformat_minor": 5
}
